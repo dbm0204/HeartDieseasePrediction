{
 "cells": [
  {
   "cell_type": "markdown",
   "metadata": {},
   "source": [
    "# Heart Disease Classification\n"
   ]
  },
  {
   "cell_type": "markdown",
   "metadata": {},
   "source": [
    "## Abstract\n",
    "Data classification can often be applied to medical data, helping detect the prevalence of disease. \n",
    "\n",
    "The following analysis predicts the prevalence of heart disease from a dataset drawn from four different sources: the Cleveland Clinic Foundation, the Hungarian Institute of Cardiology, Budapest and the University Hospital, Zurich, Switzerland and is drawn from the UCI Machine Learning Repository. This project focuses on the classification of heart disease by using several machine learning algorithms, such as random forests, kth-nearest neighbors, support vector machine and logistic regression. The analysis implements Python and Python libraries including these algorithms to come up with a model that best predicts the diagnosis (0 = not present, 1 = present). Through the investigation, we will find which algorithm most effectively and consistently predicts the presence of heart disease.\n",
    "\n",
    "We will examine 11 out of 76 total attributes, including age, sex, chest pain type, resting blood pressure, cholesterol level, etc.\n"
   ]
  },
  {
   "cell_type": "markdown",
   "metadata": {},
   "source": [
    "### Import Modules\n",
    "We begin by importing python modules. "
   ]
  },
  {
   "cell_type": "code",
   "execution_count": 50,
   "metadata": {
    "collapsed": false
   },
   "outputs": [],
   "source": [
    "import numpy as np\n",
    "from urllib.request import urlopen\n",
    "import urllib\n",
    "import matplotlib.pyplot as plt # Visuals\n",
    "import seaborn as sns \n",
    "import sklearn as skl\n",
    "import pandas as pd\n",
    "\n",
    "from sklearn.cross_validation import train_test_split # Create training and test sets\n",
    "from sklearn.neighbors import KNeighborsClassifier # Kth Nearest Neighbor\n",
    "from sklearn.tree import DecisionTreeClassifier # Decision Trees\n",
    "from sklearn.tree import export_graphviz # Extract Decision Tree visual\n",
    "from sklearn.tree import tree \n",
    "from sklearn.ensemble import RandomForestClassifier # Random Forest\n",
    "from sklearn import svm #SVM\n",
    "from sklearn.metrics import roc_curve # ROC Curves\n",
    "from sklearn.metrics import auc # AUC \n",
    "from sklearn.model_selection import KFold, cross_val_score #cross validation \n",
    "from sklearn import cross_validation  #cross validation \n",
    "from urllib.request import urlopen # Get data from UCI Machine Learning Repository\n",
    "\n",
    "import plotly.graph_objs as go\n",
    "import plotly.plotly as py\n",
    "import plotly.tools as pt\n",
    "plt.style.use('ggplot')\n",
    "pt.set_credentials_file(username='rboone125', api_key='1woUJFy3IKuR8txjeC02')"
   ]
  },
  {
   "cell_type": "markdown",
   "metadata": {},
   "source": [
    "### Import Data\n",
    "\n",
    "We imported the data directly from the UCI Machine Learning Repository website.\n",
    "Because we are working with three different datasets, we decided to merge the data into one array. \n",
    "\n",
    "Here is a short output of the data, just the first five rows. "
   ]
  },
  {
   "cell_type": "code",
   "execution_count": 2,
   "metadata": {
    "collapsed": false
   },
   "outputs": [
    {
     "data": {
      "text/html": [
       "<div>\n",
       "<table border=\"1\" class=\"dataframe\">\n",
       "  <thead>\n",
       "    <tr style=\"text-align: right;\">\n",
       "      <th></th>\n",
       "      <th>age</th>\n",
       "      <th>sex</th>\n",
       "      <th>cp</th>\n",
       "      <th>trestbps</th>\n",
       "      <th>chol</th>\n",
       "      <th>fbs</th>\n",
       "      <th>restecg</th>\n",
       "      <th>thalach</th>\n",
       "      <th>exang</th>\n",
       "      <th>oldpeak</th>\n",
       "      <th>slope</th>\n",
       "      <th>ca</th>\n",
       "      <th>thal</th>\n",
       "      <th>heartdisease</th>\n",
       "    </tr>\n",
       "  </thead>\n",
       "  <tbody>\n",
       "    <tr>\n",
       "      <th>0</th>\n",
       "      <td>28</td>\n",
       "      <td>1</td>\n",
       "      <td>2</td>\n",
       "      <td>130</td>\n",
       "      <td>132</td>\n",
       "      <td>0</td>\n",
       "      <td>2</td>\n",
       "      <td>185</td>\n",
       "      <td>0</td>\n",
       "      <td>0</td>\n",
       "      <td>?</td>\n",
       "      <td>?</td>\n",
       "      <td>?</td>\n",
       "      <td>0</td>\n",
       "    </tr>\n",
       "    <tr>\n",
       "      <th>1</th>\n",
       "      <td>29</td>\n",
       "      <td>1</td>\n",
       "      <td>2</td>\n",
       "      <td>120</td>\n",
       "      <td>243</td>\n",
       "      <td>0</td>\n",
       "      <td>0</td>\n",
       "      <td>160</td>\n",
       "      <td>0</td>\n",
       "      <td>0</td>\n",
       "      <td>?</td>\n",
       "      <td>?</td>\n",
       "      <td>?</td>\n",
       "      <td>0</td>\n",
       "    </tr>\n",
       "    <tr>\n",
       "      <th>2</th>\n",
       "      <td>29</td>\n",
       "      <td>1</td>\n",
       "      <td>2</td>\n",
       "      <td>140</td>\n",
       "      <td>?</td>\n",
       "      <td>0</td>\n",
       "      <td>0</td>\n",
       "      <td>170</td>\n",
       "      <td>0</td>\n",
       "      <td>0</td>\n",
       "      <td>?</td>\n",
       "      <td>?</td>\n",
       "      <td>?</td>\n",
       "      <td>0</td>\n",
       "    </tr>\n",
       "    <tr>\n",
       "      <th>3</th>\n",
       "      <td>30</td>\n",
       "      <td>0</td>\n",
       "      <td>1</td>\n",
       "      <td>170</td>\n",
       "      <td>237</td>\n",
       "      <td>0</td>\n",
       "      <td>1</td>\n",
       "      <td>170</td>\n",
       "      <td>0</td>\n",
       "      <td>0</td>\n",
       "      <td>?</td>\n",
       "      <td>?</td>\n",
       "      <td>6</td>\n",
       "      <td>0</td>\n",
       "    </tr>\n",
       "    <tr>\n",
       "      <th>4</th>\n",
       "      <td>31</td>\n",
       "      <td>0</td>\n",
       "      <td>2</td>\n",
       "      <td>100</td>\n",
       "      <td>219</td>\n",
       "      <td>0</td>\n",
       "      <td>1</td>\n",
       "      <td>150</td>\n",
       "      <td>0</td>\n",
       "      <td>0</td>\n",
       "      <td>?</td>\n",
       "      <td>?</td>\n",
       "      <td>?</td>\n",
       "      <td>0</td>\n",
       "    </tr>\n",
       "  </tbody>\n",
       "</table>\n",
       "</div>"
      ],
      "text/plain": [
       "   age  sex  cp trestbps chol fbs restecg thalach exang oldpeak slope ca thal  \\\n",
       "0   28    1   2      130  132   0       2     185     0       0     ?  ?    ?   \n",
       "1   29    1   2      120  243   0       0     160     0       0     ?  ?    ?   \n",
       "2   29    1   2      140    ?   0       0     170     0       0     ?  ?    ?   \n",
       "3   30    0   1      170  237   0       1     170     0       0     ?  ?    6   \n",
       "4   31    0   2      100  219   0       1     150     0       0     ?  ?    ?   \n",
       "\n",
       "   heartdisease  \n",
       "0             0  \n",
       "1             0  \n",
       "2             0  \n",
       "3             0  \n",
       "4             0  "
      ]
     },
     "execution_count": 2,
     "metadata": {},
     "output_type": "execute_result"
    }
   ],
   "source": [
    "Cleveland_data_URL = 'http://archive.ics.uci.edu/ml/machine-learning-databases/heart-disease/processed.hungarian.data'\n",
    "Hungarian_data_URL = 'http://archive.ics.uci.edu/ml/machine-learning-databases/heart-disease/processed.hungarian.data'\n",
    "Switzerland_data_URL = 'http://archive.ics.uci.edu/ml/machine-learning-databases/heart-disease/processed.switzerland.data'\n",
    "np.set_printoptions(threshold=np.nan) #see a whole array when we output it\n",
    "\n",
    "names = ['age', 'sex', 'cp', 'trestbps', 'chol', 'fbs', 'restecg', 'thalach', 'exang', 'oldpeak', 'slope', 'ca', 'thal', 'heartdisease']\n",
    "ClevelandHeartDisease = pd.read_csv(urlopen(Cleveland_data_URL), names = names) #gets Cleveland data\n",
    "HungarianHeartDisease = pd.read_csv(urlopen(Hungarian_data_URL), names = names) #gets Hungary data\n",
    "SwitzerlandHeartDisease = pd.read_csv(urlopen(Switzerland_data_URL), names = names) #gets Switzerland data\n",
    "datatemp = [ClevelandHeartDisease, HungarianHeartDisease, SwitzerlandHeartDisease] #combines all arrays into a list\n",
    "\n",
    "heartDisease = pd.concat(datatemp)#combines list into one array\n",
    "heartDisease.head()"
   ]
  },
  {
   "cell_type": "markdown",
   "metadata": {},
   "source": [
    "## Exploratory Analysis \n",
    "\n",
    "Let's start with the exploratory analysis of our dataset. \n",
    "We don't want to predict on all the variables from the original data so we are getting rid of 'ca', 'slope', and 'thal'. For the variables we kept, there are still some \"?\" in the data, so we're going to replace them with a NAN. \n",
    "\n",
    "We can also see the data types of the variables in the data set. This way, we can differentiate between discrete or categorical representations of our variables. Although the entire set is numerical, some outputs of the datatypes are objects. \n"
   ]
  },
  {
   "cell_type": "code",
   "execution_count": 3,
   "metadata": {
    "collapsed": false
   },
   "outputs": [
    {
     "data": {
      "text/plain": [
       "age              int64\n",
       "sex              int64\n",
       "cp               int64\n",
       "trestbps        object\n",
       "chol            object\n",
       "fbs             object\n",
       "restecg         object\n",
       "thalach         object\n",
       "exang           object\n",
       "oldpeak         object\n",
       "heartdisease     int64\n",
       "dtype: object"
      ]
     },
     "execution_count": 3,
     "metadata": {},
     "output_type": "execute_result"
    }
   ],
   "source": [
    "del heartDisease['ca']\n",
    "del heartDisease['slope']\n",
    "del heartDisease['thal']\n",
    "\n",
    "heartDisease = heartDisease.replace('?', np.nan)\n",
    "heartDisease.dtypes"
   ]
  },
  {
   "cell_type": "code",
   "execution_count": 4,
   "metadata": {
    "collapsed": false
   },
   "outputs": [],
   "source": [
    "#loop to count the \"?\" per variable. More for interpretation. \n",
    "\n",
    "count = 0\n",
    "for item in heartDisease:\n",
    "    for i in heartDisease[item]:\n",
    "        count += (i == '?')"
   ]
  },
  {
   "cell_type": "markdown",
   "metadata": {},
   "source": [
    "### Class Imbalance\n",
    "This is a function from another project by Ravi. This tests for class imbalance in the data, but since we are going to simplify the data later, this shouldn't be an issue. But let's check anyway.\n",
    "\n",
    "Class Imbalance refers to when a class within a data set is outnumbered by the other class (or classes). Class Imbalance is present when a class populates 10-20% of the data set. We can see that is a problem here! :(  "
   ]
  },
  {
   "cell_type": "code",
   "execution_count": 5,
   "metadata": {
    "collapsed": false
   },
   "outputs": [
    {
     "name": "stdout",
     "output_type": "stream",
     "text": [
      "The percentage of level 0 in the response variable is: 0.14\n",
      "The percentage of level 1 in the response variable is: 0.14\n",
      "The percentage of level 2 in the response variable is: 0.14\n",
      "The percentage of level 3 in the response variable is: 0.14\n",
      "The percentage of level 4 in the response variable is: 0.14\n",
      "The percentage of level 5 in the response variable is: 0.14\n"
     ]
    }
   ],
   "source": [
    "def classImbalance(item):\n",
    "    item_0 = 0\n",
    "    item_1 = 0\n",
    "    item_2 = 0\n",
    "    item_3 = 0\n",
    "    item_4 = 0\n",
    "    item_5 = 0\n",
    "    for item_i in heartDisease[item]:\n",
    "        for i in range(0,6):\n",
    "            if (item == i):\n",
    "                item_i +=1\n",
    "    heartDisease_i = 0\n",
    "    for i in  range (0,6):\n",
    "        heartDisease_i = (item_i/len(heartDisease)) * 100\n",
    "        print(\"The percentage of level\", i, \"in the response variable is: {0:.2f}\".format(heartDisease_i)) \n",
    " \n",
    "classImbalance('heartdisease')"
   ]
  },
  {
   "cell_type": "code",
   "execution_count": 53,
   "metadata": {
    "collapsed": false
   },
   "outputs": [
    {
     "data": {
      "text/html": [
       "<iframe id=\"igraph\" scrolling=\"no\" style=\"border:none;\" seamless=\"seamless\" src=\"https://plot.ly/~rboone125/22.embed\" height=\"525px\" width=\"100%\"></iframe>"
      ],
      "text/plain": [
       "<plotly.tools.PlotlyDisplay object>"
      ]
     },
     "execution_count": 53,
     "metadata": {},
     "output_type": "execute_result"
    }
   ],
   "source": [
    "trace0 = go.Box(\n",
    "    y=heartDisease['age'],\n",
    "    name='age'\n",
    ")\n",
    "trace1 = go.Box(\n",
    "    y=heartDisease['sex'],\n",
    "    name='sex'\n",
    ")\n",
    "trace2 = go.Box(\n",
    "    y=heartDisease['cp'],\n",
    "    name='cp'\n",
    ")\n",
    "trace3 = go.Box(\n",
    "    y=heartDisease['trestbps'],\n",
    "    name='trestbps'\n",
    ")\n",
    "trace4 = go.Box(\n",
    "    y=heartDisease['chol'],\n",
    "    name='chol'\n",
    ")\n",
    "trace5 = go.Box(\n",
    "    y=heartDisease['fbs'],\n",
    "    name='fbs'\n",
    ")\n",
    "trace6 = go.Box(\n",
    "    y=heartDisease['restecg'],\n",
    "    name='restecg'\n",
    ")\n",
    "trace7 = go.Box(\n",
    "    y=heartDisease['thalach'],\n",
    "    name='thalach'\n",
    ")\n",
    "trace8 = go.Box(\n",
    "    y=heartDisease['exang'],\n",
    "    name='exang'\n",
    ")\n",
    "trace9 = go.Box(\n",
    "    y=heartDisease['oldpeak'],\n",
    "    name='oldpeak'\n",
    ")\n",
    "trace10 = go.Box(\n",
    "    y=heartDisease['heartdisease'],\n",
    "    name='heart disease status'\n",
    ")\n",
    "plotdata = [trace0, trace1, trace2, trace3, trace4, trace5, trace6, trace7, trace8, trace9, trace10]\n",
    "py.iplot(plotdata)"
   ]
  },
  {
   "cell_type": "markdown",
   "metadata": {},
   "source": [
    "## Preprocessing\n",
    "### Normalizing Data\n",
    "\n",
    "Everything else seems okay. So we begin the preprocessing of th data.\n",
    "All of our data is numerical, so we are going to standardize the variables to approach our analysis more objectively. In doing so, the data is scaled to be only between 0 and 1, to objectify the distribution.  \n"
   ]
  },
  {
   "cell_type": "code",
   "execution_count": 6,
   "metadata": {
    "collapsed": false
   },
   "outputs": [
    {
     "data": {
      "text/html": [
       "<div>\n",
       "<table border=\"1\" class=\"dataframe\">\n",
       "  <thead>\n",
       "    <tr style=\"text-align: right;\">\n",
       "      <th></th>\n",
       "      <th>age</th>\n",
       "      <th>sex</th>\n",
       "      <th>cp</th>\n",
       "      <th>trestbps</th>\n",
       "      <th>chol</th>\n",
       "      <th>fbs</th>\n",
       "      <th>restecg</th>\n",
       "      <th>thalach</th>\n",
       "      <th>exang</th>\n",
       "      <th>oldpeak</th>\n",
       "      <th>heartdisease</th>\n",
       "    </tr>\n",
       "  </thead>\n",
       "  <tbody>\n",
       "    <tr>\n",
       "      <th>0</th>\n",
       "      <td>0.000000</td>\n",
       "      <td>1</td>\n",
       "      <td>0.333333</td>\n",
       "      <td>0.416667</td>\n",
       "      <td>0.218905</td>\n",
       "      <td>0.0</td>\n",
       "      <td>2.0</td>\n",
       "      <td>0.961538</td>\n",
       "      <td>0.0</td>\n",
       "      <td>0.342105</td>\n",
       "      <td>0</td>\n",
       "    </tr>\n",
       "    <tr>\n",
       "      <th>1</th>\n",
       "      <td>0.021739</td>\n",
       "      <td>1</td>\n",
       "      <td>0.333333</td>\n",
       "      <td>0.333333</td>\n",
       "      <td>0.402985</td>\n",
       "      <td>0.0</td>\n",
       "      <td>0.0</td>\n",
       "      <td>0.769231</td>\n",
       "      <td>0.0</td>\n",
       "      <td>0.342105</td>\n",
       "      <td>0</td>\n",
       "    </tr>\n",
       "    <tr>\n",
       "      <th>3</th>\n",
       "      <td>0.043478</td>\n",
       "      <td>0</td>\n",
       "      <td>0.000000</td>\n",
       "      <td>0.750000</td>\n",
       "      <td>0.393035</td>\n",
       "      <td>0.0</td>\n",
       "      <td>1.0</td>\n",
       "      <td>0.846154</td>\n",
       "      <td>0.0</td>\n",
       "      <td>0.342105</td>\n",
       "      <td>0</td>\n",
       "    </tr>\n",
       "    <tr>\n",
       "      <th>4</th>\n",
       "      <td>0.065217</td>\n",
       "      <td>0</td>\n",
       "      <td>0.333333</td>\n",
       "      <td>0.166667</td>\n",
       "      <td>0.363184</td>\n",
       "      <td>0.0</td>\n",
       "      <td>1.0</td>\n",
       "      <td>0.692308</td>\n",
       "      <td>0.0</td>\n",
       "      <td>0.342105</td>\n",
       "      <td>0</td>\n",
       "    </tr>\n",
       "    <tr>\n",
       "      <th>5</th>\n",
       "      <td>0.086957</td>\n",
       "      <td>0</td>\n",
       "      <td>0.333333</td>\n",
       "      <td>0.208333</td>\n",
       "      <td>0.328358</td>\n",
       "      <td>0.0</td>\n",
       "      <td>0.0</td>\n",
       "      <td>0.807692</td>\n",
       "      <td>0.0</td>\n",
       "      <td>0.342105</td>\n",
       "      <td>0</td>\n",
       "    </tr>\n",
       "  </tbody>\n",
       "</table>\n",
       "</div>"
      ],
      "text/plain": [
       "        age  sex        cp  trestbps      chol  fbs  restecg   thalach  exang  \\\n",
       "0  0.000000    1  0.333333  0.416667  0.218905  0.0      2.0  0.961538    0.0   \n",
       "1  0.021739    1  0.333333  0.333333  0.402985  0.0      0.0  0.769231    0.0   \n",
       "3  0.043478    0  0.000000  0.750000  0.393035  0.0      1.0  0.846154    0.0   \n",
       "4  0.065217    0  0.333333  0.166667  0.363184  0.0      1.0  0.692308    0.0   \n",
       "5  0.086957    0  0.333333  0.208333  0.328358  0.0      0.0  0.807692    0.0   \n",
       "\n",
       "    oldpeak  heartdisease  \n",
       "0  0.342105             0  \n",
       "1  0.342105             0  \n",
       "3  0.342105             0  \n",
       "4  0.342105             0  \n",
       "5  0.342105             0  "
      ]
     },
     "execution_count": 6,
     "metadata": {},
     "output_type": "execute_result"
    }
   ],
   "source": [
    "for item in heartDisease: #converts everything to floats\n",
    "    heartDisease[item] = pd.to_numeric(heartDisease[item])\n",
    "\n",
    "def normalize(heartDisease, toNormalize): #normalizes \n",
    "    result = heartDisease.copy()\n",
    "    for item in heartDisease.columns:\n",
    "        if (item in toNormalize):\n",
    "            max_value = heartDisease[item].max()\n",
    "            min_value = heartDisease[item].min()\n",
    "            result[item] = (heartDisease[item] - min_value) / (max_value - min_value)\n",
    "    return result\n",
    "toNormalize = ['age', 'cp', 'trestbps', 'chol', 'thalach', 'oldpeak'] #columns to normalize\n",
    "heartDisease = normalize(heartDisease, toNormalize)\n",
    "heartDisease = heartDisease.dropna()\n",
    "heartDisease.head()"
   ]
  },
  {
   "cell_type": "markdown",
   "metadata": {},
   "source": [
    "This is a classification problem, so to simplify our project we are going to convert the predictor column into 1 for \"heart disease is present\" and 0 for \"heart disease is not present.\"\n",
    "\n",
    "Before, the scope of the disease ran from 0 - 5 for the intensity of the heart disease but this shit's too hard so we're going to replace it."
   ]
  },
  {
   "cell_type": "code",
   "execution_count": 7,
   "metadata": {
    "collapsed": false
   },
   "outputs": [],
   "source": [
    "for i in range(1,5):\n",
    "    heartDisease['heartdisease'] = heartDisease['heartdisease'].replace(i,1)\n"
   ]
  },
  {
   "cell_type": "markdown",
   "metadata": {},
   "source": [
    "###### Boxplot visualization of the Transformed Dataset and the Distribution of the Attributes "
   ]
  },
  {
   "cell_type": "code",
   "execution_count": 8,
   "metadata": {
    "collapsed": false
   },
   "outputs": [
    {
     "data": {
      "image/png": "[encoded data removed]",
      "text/plain": [
       "<matplotlib.figure.Figure at 0x10a9572e8>"
      ]
     },
     "metadata": {},
     "output_type": "display_data"
    }
   ],
   "source": [
    "f, ax = plt.subplots(figsize=(11, 15))\n",
    "\n",
    "ax.set_axis_bgcolor('#fafafa')\n",
    "plt.title(\"Box Plot of Transformed Data Set\")\n",
    "ax.set(xlim=(-.05, 1.05))\n",
    "ax = sns.boxplot(data = heartDisease[1:29], orient = 'h', palette = 'Set2')\n",
    "plt.show()"
   ]
  },
  {
   "cell_type": "code",
   "execution_count": 54,
   "metadata": {
    "collapsed": false
   },
   "outputs": [
    {
     "data": {
      "text/html": [
       "<iframe id=\"igraph\" scrolling=\"no\" style=\"border:none;\" seamless=\"seamless\" src=\"https://plot.ly/~rboone125/24.embed\" height=\"525px\" width=\"100%\"></iframe>"
      ],
      "text/plain": [
       "<plotly.tools.PlotlyDisplay object>"
      ]
     },
     "execution_count": 54,
     "metadata": {},
     "output_type": "execute_result"
    }
   ],
   "source": [
    "trace0 = go.Box(\n",
    "    y=heartDisease['age'],\n",
    "    name='age'\n",
    ")\n",
    "trace1 = go.Box(\n",
    "    y=heartDisease['sex'],\n",
    "    name='sex'\n",
    ")\n",
    "trace2 = go.Box(\n",
    "    y=heartDisease['cp'],\n",
    "    name='cp'\n",
    ")\n",
    "trace3 = go.Box(\n",
    "    y=heartDisease['trestbps'],\n",
    "    name='trestbps'\n",
    ")\n",
    "trace4 = go.Box(\n",
    "    y=heartDisease['chol'],\n",
    "    name='chol'\n",
    ")\n",
    "trace5 = go.Box(\n",
    "    y=heartDisease['fbs'],\n",
    "    name='fbs'\n",
    ")\n",
    "trace6 = go.Box(\n",
    "    y=heartDisease['restecg'],\n",
    "    name='restecg'\n",
    ")\n",
    "trace7 = go.Box(\n",
    "    y=heartDisease['thalach'],\n",
    "    name='thalach'\n",
    ")\n",
    "trace8 = go.Box(\n",
    "    y=heartDisease['exang'],\n",
    "    name='exang'\n",
    ")\n",
    "trace9 = go.Box(\n",
    "    y=heartDisease['oldpeak'],\n",
    "    name='oldpeak'\n",
    ")\n",
    "trace10 = go.Box(\n",
    "    y=heartDisease['heartdisease'],\n",
    "    name='heart disease status'\n",
    ")\n",
    "plotdata = [trace0, trace1, trace2, trace3, trace4, trace5, trace6, trace7, trace8, trace9, trace10]\n",
    "py.iplot(plotdata)"
   ]
  },
  {
   "cell_type": "markdown",
   "metadata": {},
   "source": [
    "## Model Estimation\n",
    "### Training and Testing \n",
    "\n",
    "Whoooo!!! Let's play with some algorithms. First, split the data into training and test sets. "
   ]
  },
  {
   "cell_type": "code",
   "execution_count": 20,
   "metadata": {
    "collapsed": false
   },
   "outputs": [],
   "source": [
    "train, test = train_test_split(heartDisease, test_size = 0.20, random_state = 42)\n",
    "# Create the training test omitting the diagnosis\n",
    "\n",
    "training_set = train.ix[:, train.columns != 'heartdisease']\n",
    "# Next we create the class set \n",
    "class_set = train.ix[:, train.columns == 'heartdisease']\n",
    "\n",
    "# Next we create the test set doing the same process as the training set\n",
    "test_set = test.ix[:, test.columns != 'heartdisease']\n",
    "test_class_set = test.ix[:, test.columns == 'heartdisease']\n"
   ]
  },
  {
   "cell_type": "markdown",
   "metadata": {},
   "source": [
    "### Decision Trees\n",
    "\n",
    "Decision trees have a hierarchical structure, where each leaf of the tree represents a class label while the branches represent represent the process the tree used to deduce the class labels. \n"
   ]
  },
  {
   "cell_type": "code",
   "execution_count": 21,
   "metadata": {
    "collapsed": false
   },
   "outputs": [
    {
     "data": {
      "text/plain": [
       "0.956140350877193"
      ]
     },
     "execution_count": 21,
     "metadata": {},
     "output_type": "execute_result"
    }
   ],
   "source": [
    "dt = tree.DecisionTreeClassifier()\n",
    "dt = dt.fit(train[['age', 'sex', 'cp','trestbps','chol','fbs','restecg','thalach','exang','oldpeak']], train['heartdisease'])\n",
    "predictions_dt = dt.predict(test[['age', 'sex', 'cp','trestbps','chol','fbs','restecg','thalach','exang','oldpeak']])\n",
    "predictright = 0\n",
    "predictions_dt.shape[0]\n",
    "for i in range(0,predictions_dt.shape[0]-1):\n",
    "    if (predictions_dt[i]== test.iloc[i][10]):\n",
    "        predictright +=1\n",
    "accuracy = predictright/predictions_dt.shape[0]\n",
    "accuracy"
   ]
  },
  {
   "cell_type": "markdown",
   "metadata": {},
   "source": [
    "The accuracy for a decision tree is 95.64%. This is high, but I want to see if we can get higher with a random forest. "
   ]
  },
  {
   "cell_type": "code",
   "execution_count": 22,
   "metadata": {
    "collapsed": false
   },
   "outputs": [
    {
     "name": "stdout",
     "output_type": "stream",
     "text": [
      "Table comparing actual vs. predicted values for our test set:\n",
      " Actual Values      0   1\n",
      "Predicted Values        \n",
      "0                 64   4\n",
      "1                  0  46\n"
     ]
    }
   ],
   "source": [
    "print(\"Table comparing actual vs. predicted values for our test set:\\n\",\n",
    "     pd.crosstab(predictions_dt, test_class_set['heartdisease'], \n",
    "                  rownames=['Predicted Values'], \n",
    "                  colnames=['Actual Values']))"
   ]
  },
  {
   "cell_type": "code",
   "execution_count": 23,
   "metadata": {
    "collapsed": true
   },
   "outputs": [],
   "source": [
    "#ROC curve calculation \n",
    "fpr2, tpr2, _ = roc_curve(predictions_dt, test_class_set)\n",
    "\n",
    "#AUC curve calcuation\n",
    "auc_dt = auc(fpr2, tpr2)"
   ]
  },
  {
   "cell_type": "markdown",
   "metadata": {},
   "source": [
    "#### Note on ROC and AUC curves\n",
    "###### Receiver Operating Characteristc Curve calculations \n",
    "The function roc_curve is for calculating the False Positive Rates and True Positive Rates for each model. \n",
    "The Area under the Curve was also calculated (in this case the curves are the ROC Curves). These are going to be calculated for each model so we can fit a graph to visualize which model ends up working best for the data. "
   ]
  },
  {
   "cell_type": "markdown",
   "metadata": {},
   "source": [
    "### Random Forest\n",
    "\n",
    "A random forest is an entire forest of random decision trees. This will perform better than just a single tree because it corrects the problem of overfitting. \n",
    "\n",
    "Decision Trees tend to have low bias and high variance, a process known as Bagging Trees (Bootstrap Aggregating). Random Forest aims to reduce this correlation by choosing only a subsample of the feature space at each split. Essentially aiming to make the trees more independent and thus reducing the variance.\n",
    "\n",
    "\n",
    "##### Tree Concepts \n",
    "+ Single Decision Tree (Single tree)\n",
    "+ Bagging Trees (Multiple trees) [Model with all features, M, considered at splits, where M = all features]\n",
    "+ Random Forest (Multiple trees) [Model with m features considered at splits, where m < M]"
   ]
  },
  {
   "cell_type": "code",
   "execution_count": 24,
   "metadata": {
    "collapsed": true
   },
   "outputs": [],
   "source": [
    "fitRF = RandomForestClassifier(random_state = 42, \n",
    "                                criterion='gini',\n",
    "                                n_estimators = 500,\n",
    "                                max_features = 5)"
   ]
  },
  {
   "cell_type": "code",
   "execution_count": 25,
   "metadata": {
    "collapsed": false
   },
   "outputs": [
    {
     "data": {
      "text/plain": [
       "RandomForestClassifier(bootstrap=True, class_weight=None, criterion='gini',\n",
       "            max_depth=None, max_features=5, max_leaf_nodes=None,\n",
       "            min_impurity_split=1e-07, min_samples_leaf=1,\n",
       "            min_samples_split=2, min_weight_fraction_leaf=0.0,\n",
       "            n_estimators=500, n_jobs=1, oob_score=False, random_state=42,\n",
       "            verbose=0, warm_start=False)"
      ]
     },
     "execution_count": 25,
     "metadata": {},
     "output_type": "execute_result"
    }
   ],
   "source": [
    "fitRF.fit(training_set, class_set['heartdisease'])"
   ]
  },
  {
   "cell_type": "markdown",
   "metadata": {},
   "source": [
    "We have to gather the variable importance. This is essential in decision trees and random forests for seeing which attributes played an important role in our algorithm. "
   ]
  },
  {
   "cell_type": "code",
   "execution_count": 26,
   "metadata": {
    "collapsed": false
   },
   "outputs": [
    {
     "data": {
      "text/plain": [
       "array([2, 8, 9, 4, 7, 0, 3, 1, 6, 5])"
      ]
     },
     "execution_count": 26,
     "metadata": {},
     "output_type": "execute_result"
    }
   ],
   "source": [
    "importancesRF = fitRF.feature_importances_\n",
    "indicesRF = np.argsort(importancesRF)[::-1]\n",
    "indicesRF"
   ]
  },
  {
   "cell_type": "markdown",
   "metadata": {},
   "source": [
    "##### Gini impurity \n",
    "Gini impurity is a measure of how often a randomly chosen element from the set would be incorrectly labeled if it was randomly labeled according to the distribution of labels in the subset. Gini impurity can be computed by summing the probability fi of an item with label i being chosen times the probability 1- fi of a mistake in categorizing that item. \n",
    "\n",
    "It reaches its minimum (zero) when all cases in the node fall into a single target category. Here we compute the importance of each gini impurity and plot it. "
   ]
  },
  {
   "cell_type": "code",
   "execution_count": 46,
   "metadata": {
    "collapsed": false
   },
   "outputs": [
    {
     "name": "stdout",
     "output_type": "stream",
     "text": [
      "Feature ranking:\n",
      "1. The feature 'cp' has a Gini Importance of 0.195424\n",
      "2. The feature 'exang' has a Gini Importance of 0.165684\n",
      "3. The feature 'oldpeak' has a Gini Importance of 0.152049\n",
      "4. The feature 'chol' has a Gini Importance of 0.143879\n",
      "5. The feature 'thalach' has a Gini Importance of 0.118047\n",
      "6. The feature 'age' has a Gini Importance of 0.083195\n",
      "7. The feature 'trestbps' has a Gini Importance of 0.072504\n",
      "8. The feature 'sex' has a Gini Importance of 0.035457\n",
      "9. The feature 'restecg' has a Gini Importance of 0.020557\n",
      "10. The feature 'fbs' has a Gini Importance of 0.013205\n"
     ]
    }
   ],
   "source": [
    "namesInd = names[:11]\n",
    "print(\"Feature ranking:\")\n",
    "\n",
    "for f in range(10):\n",
    "    i = f\n",
    "    print(\"%d. The feature '%s' has a Gini Importance of %f\" % (f + 1, \n",
    "                                                                namesInd[indicesRF[i]], \n",
    "                                                                importancesRF[indicesRF[f]]))"
   ]
  },
  {
   "cell_type": "markdown",
   "metadata": {},
   "source": [
    "Print the accuracy of the random forest. \n"
   ]
  },
  {
   "cell_type": "code",
   "execution_count": 48,
   "metadata": {
    "collapsed": false
   },
   "outputs": [
    {
     "data": {
      "image/png": "[encoded data removed]",
      "text/plain": [
       "<matplotlib.figure.Figure at 0x10f03d0b8>"
      ]
     },
     "metadata": {},
     "output_type": "display_data"
    }
   ],
   "source": [
    "indRf = sorted(importancesRF) #sort into decreasing order \n",
    "index = np.arange(10) #arrange the importance\n",
    "\n",
    "f, ax = plt.subplots(figsize=(11, 11))\n",
    "\n",
    "ax.set_axis_bgcolor('#fafafa')\n",
    "plt.title('Feature importances for Random Forest Model')\n",
    "plt.barh(index, indRf,\n",
    "    \talign=\"center\", \n",
    "    \tcolor = '#875FDB')\n",
    "plt.yticks(index, ('cp', 'exang', 'oldpeak', 'chol', 'thalach', 'age', 'trestbps', 'sex', 'restecg', 'fbs'))\n",
    "plt.ylim(-1, 10)\n",
    "plt.xlim(0, 0.15)\n",
    "plt.xlabel('Gini Importance')\n",
    "plt.ylabel('Feature')\n",
    "\n",
    "plt.show()"
   ]
  },
  {
   "cell_type": "code",
   "execution_count": 28,
   "metadata": {
    "collapsed": false
   },
   "outputs": [
    {
     "name": "stdout",
     "output_type": "stream",
     "text": [
      "Actual Values      0   1\n",
      "Predicted Values        \n",
      "0                 64   4\n",
      "1                  0  46\n"
     ]
    }
   ],
   "source": [
    "predictions_RF = fitRF.predict(test_set)\n",
    "print(pd.crosstab(predictions_RF, test_class_set['heartdisease'], \n",
    "                  rownames=['Predicted Values'], \n",
    "                  colnames=['Actual Values']))"
   ]
  },
  {
   "cell_type": "code",
   "execution_count": 29,
   "metadata": {
    "collapsed": false
   },
   "outputs": [
    {
     "name": "stdout",
     "output_type": "stream",
     "text": [
      "Here is our mean accuracy on the test set:\n",
      " 96.491 %\n"
     ]
    }
   ],
   "source": [
    "accuracy_RF = fitRF.score(test_set, test_class_set['heartdisease'])\n",
    "\n",
    "print(\"Here is our mean accuracy on the test set:\\n\",\n",
    "     '%.3f' % (accuracy_RF * 100), '%')"
   ]
  },
  {
   "cell_type": "markdown",
   "metadata": {},
   "source": [
    "We have a 96.491% accuracy, which is pretty high for an accuracy. "
   ]
  },
  {
   "cell_type": "code",
   "execution_count": 30,
   "metadata": {
    "collapsed": false
   },
   "outputs": [
    {
     "name": "stdout",
     "output_type": "stream",
     "text": [
      "The test error rate for our model is:\n",
      " 3.509 %\n"
     ]
    }
   ],
   "source": [
    "# Here we calculate the test error rate!\n",
    "test_error_rate_RF = 1 - accuracy_RF\n",
    "print(\"The test error rate for our model is:\\n\",\n",
    "     '%.3f' % (test_error_rate_RF * 100), '%')"
   ]
  },
  {
   "cell_type": "code",
   "execution_count": 31,
   "metadata": {
    "collapsed": false
   },
   "outputs": [],
   "source": [
    "#ROC curve calculation\n",
    "fpr1, tpr1, _ = roc_curve(predictions_RF, test_class_set)\n",
    "#AUC curve calcuation\n",
    "auc_rf = auc(fpr1, tpr1)"
   ]
  },
  {
   "cell_type": "markdown",
   "metadata": {},
   "source": [
    "Since random forests are an extension of decision trees, we will soon see that the ROC curve is very similar in accuracy. \n"
   ]
  },
  {
   "cell_type": "markdown",
   "metadata": {},
   "source": [
    "### Support Vector Machine\n",
    "SVM is a supervised machine learning algorithm where each data item is plotted as a point in n-dimensional space (where n is number of features you have) with the value of each feature being the value of a particular coordinate. Classification is done by finding the hyper-plane that differentiates between the two classes very well. "
   ]
  },
  {
   "cell_type": "code",
   "execution_count": 32,
   "metadata": {
    "collapsed": false
   },
   "outputs": [
    {
     "data": {
      "text/plain": [
       "0.7280701754385965"
      ]
     },
     "execution_count": 32,
     "metadata": {},
     "output_type": "execute_result"
    }
   ],
   "source": [
    "svmtest = svm.SVC()\n",
    "svmfit = svmtest.fit(train[['age', 'sex', 'cp','trestbps','chol','fbs','restecg','thalach','exang','oldpeak']], train['heartdisease'])\n",
    "svmPredictions = svmtest.predict(test[['age', 'sex', 'cp','trestbps','chol','fbs','restecg','thalach','exang','oldpeak']])\n",
    "predictrightsvm = 0\n",
    "for i in range(0,svmPredictions.shape[0]-1):\n",
    "    if (svmPredictions[i]== test.iloc[i][10]):\n",
    "        predictrightsvm +=1\n",
    "rightpercentsvm = predictrightsvm/svmPredictions.shape[0]\n",
    "rightpercentsvm"
   ]
  },
  {
   "cell_type": "markdown",
   "metadata": {},
   "source": [
    "Here our accuracy is about 72.8%, which is not as high as the previous algorithms. "
   ]
  },
  {
   "cell_type": "code",
   "execution_count": 33,
   "metadata": {
    "collapsed": false
   },
   "outputs": [
    {
     "name": "stdout",
     "output_type": "stream",
     "text": [
      "Actual Values      0   1\n",
      "Predicted Values        \n",
      "0                 54  20\n",
      "1                 10  30\n"
     ]
    }
   ],
   "source": [
    "predictions_svm = svmfit.predict(test_set)\n",
    "print(pd.crosstab(predictions_svm, test_class_set['heartdisease'], \n",
    "                  rownames=['Predicted Values'], \n",
    "                  colnames=['Actual Values']))"
   ]
  },
  {
   "cell_type": "code",
   "execution_count": 34,
   "metadata": {
    "collapsed": true
   },
   "outputs": [],
   "source": [
    "#ROC curve calculation\n",
    "fpr4, tpr4, _ = roc_curve(predictions_svm, test_class_set)\n",
    "#AUC curve calcuation\n",
    "auc_svm = auc(fpr4, tpr4)"
   ]
  },
  {
   "cell_type": "markdown",
   "metadata": {
    "collapsed": false
   },
   "source": [
    "### Kth Nearest Neighbors \n",
    "\n",
    "Kth nearest neighbor employs Euclidean Distance (a.k.a straight-line distance between two points) based on the specified k. For this data in particular, there are 10 neighbors closest to the value it is trying to classify. This is a simpler algorithm, but gives context to the idea that often simpler is better! \n"
   ]
  },
  {
   "cell_type": "code",
   "execution_count": 35,
   "metadata": {
    "collapsed": true
   },
   "outputs": [],
   "source": [
    "heartDiseaseKnn = KNeighborsClassifier(n_neighbors=10)"
   ]
  },
  {
   "cell_type": "code",
   "execution_count": 36,
   "metadata": {
    "collapsed": false
   },
   "outputs": [
    {
     "data": {
      "text/plain": [
       "KNeighborsClassifier(algorithm='auto', leaf_size=30, metric='minkowski',\n",
       "           metric_params=None, n_jobs=1, n_neighbors=10, p=2,\n",
       "           weights='uniform')"
      ]
     },
     "execution_count": 36,
     "metadata": {},
     "output_type": "execute_result"
    }
   ],
   "source": [
    "heartDiseaseKnn.fit(training_set, class_set['heartdisease'])"
   ]
  },
  {
   "cell_type": "code",
   "execution_count": 37,
   "metadata": {
    "collapsed": false
   },
   "outputs": [
    {
     "name": "stdout",
     "output_type": "stream",
     "text": [
      "Actual Values       0    1\n",
      "Predicted Values          \n",
      "0                 246   69\n",
      "1                  17  122\n",
      "Here is our accuracy for our training set:\n",
      "81.057 %\n"
     ]
    }
   ],
   "source": [
    "# We predict the class for our training set\n",
    "predictionsTrain = heartDiseaseKnn.predict(training_set) \n",
    "\n",
    "# Here we create a matrix comparing the actual values vs. the predicted values\n",
    "print(pd.crosstab(predictionsTrain, class_set['heartdisease'], \n",
    "                  rownames=['Predicted Values'], colnames=['Actual Values']))\n",
    "\n",
    "# Measure the accuracy based on the trianing set\n",
    "accuracyTrain = heartDiseaseKnn.score(training_set, class_set['heartdisease'])\n",
    "\n",
    "print(\"Here is our accuracy for our training set:\")\n",
    "print('%.3f' % (accuracyTrain * 100), '%')"
   ]
  },
  {
   "cell_type": "code",
   "execution_count": 38,
   "metadata": {
    "collapsed": false
   },
   "outputs": [
    {
     "name": "stdout",
     "output_type": "stream",
     "text": [
      "The train error rate for our model is:\n",
      "18.943 %\n"
     ]
    }
   ],
   "source": [
    "print(\"The train error rate for our model is:\")\n",
    "train_error_rate = 1 - accuracyTrain  \n",
    "print('%.3f' % (train_error_rate * 100), '%')"
   ]
  },
  {
   "cell_type": "markdown",
   "metadata": {},
   "source": [
    "Apply to test set. "
   ]
  },
  {
   "cell_type": "code",
   "execution_count": 39,
   "metadata": {
    "collapsed": false
   },
   "outputs": [
    {
     "name": "stdout",
     "output_type": "stream",
     "text": [
      "Actual Values      0   1\n",
      "Predicted Values        \n",
      "0                 55  21\n",
      "1                  9  29\n",
      "Here is our accuracy for our test set:\n",
      "73.684 %\n"
     ]
    }
   ],
   "source": [
    "# First we predict the Dx for the test set and call it predictions\n",
    "predictions = heartDiseaseKnn.predict(test_set)\n",
    "\n",
    "# Let's compare the predictions vs. the actual values\n",
    "print(pd.crosstab(predictions, test_class_set['heartdisease'], \n",
    "                  rownames=['Predicted Values'], \n",
    "                  colnames=['Actual Values']))\n",
    "\n",
    "# Let's get the accuracy of our test set\n",
    "accuracy = heartDiseaseKnn.score(test_set, test_class_set['heartdisease'])\n",
    "\n",
    "# TEST ERROR RATE!!\n",
    "print(\"Here is our accuracy for our test set:\")\n",
    "print('%.3f' % (accuracy * 100), '%')"
   ]
  },
  {
   "cell_type": "markdown",
   "metadata": {},
   "source": [
    "We get an accuracy of 73.68%. This is actually the worst algorithm that's been used so far. "
   ]
  },
  {
   "cell_type": "code",
   "execution_count": 40,
   "metadata": {
    "collapsed": false
   },
   "outputs": [
    {
     "name": "stdout",
     "output_type": "stream",
     "text": [
      "Accuracy: 0.75 (+/- 0.03)\n"
     ]
    }
   ],
   "source": [
    "n = KFold(n_splits=3)\n",
    "\n",
    "scores = cross_val_score(heartDiseaseKnn, \n",
    "                         test_set, \n",
    "                         test_class_set['heartdisease'], cv = n)\n",
    "\n",
    "print(\"Accuracy: %0.2f (+/- %0.2f)\" % (scores.mean(), scores.std() / 2))"
   ]
  },
  {
   "cell_type": "code",
   "execution_count": 41,
   "metadata": {
    "collapsed": false
   },
   "outputs": [],
   "source": [
    "fpr3, tpr3, _ = roc_curve(predictions, test_class_set)\n",
    "auc_knn = auc(fpr3, tpr3)"
   ]
  },
  {
   "cell_type": "markdown",
   "metadata": {},
   "source": [
    "### ROC CURVE\n",
    "The ideal ROC curve follows the X axis at 0 and the Y axis at 1. The closer the model is to this fit, the stronger the algorithm. We can see that here, using random forest trees generated the best fit. "
   ]
  },
  {
   "cell_type": "code",
   "execution_count": 43,
   "metadata": {
    "collapsed": false
   },
   "outputs": [
    {
     "data": {
      "image/png": "[encoded data removed]",
      "text/plain": [
       "<matplotlib.figure.Figure at 0x10ce19748>"
      ]
     },
     "metadata": {},
     "output_type": "display_data"
    }
   ],
   "source": [
    "fig, ax = plt.subplots(figsize=(10, 10))\n",
    "\n",
    "plt.plot(fpr1, tpr1,label='Decision Trees ROC Curve (area = %.4f)' % auc_dt, \n",
    "         color = 'navy', \n",
    "         linewidth=2)\n",
    "plt.plot(fpr2, tpr2,label='Random Forest ROC Curve (area = %.4f)' % auc_rf, \n",
    "         color = 'red', \n",
    "         linestyle=':', \n",
    "         linewidth=2)\n",
    "plt.plot(fpr3, tpr3,label='Kth Nearest Neighbor ROC Curve (area = %.4f)' % auc_knn, \n",
    "         color = 'red', \n",
    "         linestyle=':', \n",
    "         linewidth=2)\n",
    "plt.plot(fpr4, tpr4,label='SVM ROC Curve (area = %.4f)' % auc_svm, \n",
    "         color = 'red', \n",
    "         linestyle=':', \n",
    "         linewidth=2)\n",
    "\n",
    "ax.set_axis_bgcolor('#fafafa')\n",
    "plt.plot([0, 1], [0, 1], 'k--', lw=2)\n",
    "plt.plot([0, 0], [1, 0], 'k--', lw=2, color = 'black')\n",
    "plt.plot([1, 0], [1, 1], 'k--', lw=2, color = 'black')\n",
    "plt.xlim([-0.01, 1.0])\n",
    "plt.ylim([0.0, 1.05])\n",
    "plt.xlabel('False Positive Rate')\n",
    "plt.ylabel('True Positive Rate')\n",
    "plt.title('ROC Curve Comparison For All Models')\n",
    "plt.legend(loc=\"lower right\")\n",
    "\n",
    "plt.show()"
   ]
  },
  {
   "cell_type": "markdown",
   "metadata": {},
   "source": [
    "## Conclusions\n",
    "\n",
    "Using random forests has produced the best performances in test error rate and having true positives/true negatives, and I highly doubt that I will find an algorithm that performs better than that. \n",
    "\n",
    "By messing around with data and applying different algorithms, we have so many tools at our hands that can predict the presence of disease for the future. I'm not really into biostatistics or anything like that, but this project is still super handy and I definitely learned a lot doing it. Also thanks Ravi for your breast cancer project cause it was actually a huge inspiration and helped guide this one a lot. You're probably the only person who checks out my Github so thanks!!! :) \n",
    "\n",
    "| Model/Algorithm | Test Accuracy Rate | Area under the Curve for ROC |\n",
    "|-----------------|-----------------|--------------------------------------------|----------------|\n",
    "| Decision Trees | 95.64% | 0.9706 | \n",
    "| Random Forest| 96.491% | 0.9706 | \n",
    "| Support Vector Machine| 72.81% | 0.7399 | \n",
    "| Kth Nearest Neighobrs| 73.68% | 0.7434 | \n"
   ]
  }
 ],
 "metadata": {
  "anaconda-cloud": {},
  "kernelspec": {
   "display_name": "Python 3",
   "language": "python",
   "name": "python3"
  },
  "language_info": {
   "codemirror_mode": {
    "name": "ipython",
    "version": 3
   },
   "file_extension": ".py",
   "mimetype": "text/x-python",
   "name": "python",
   "nbconvert_exporter": "python",
   "pygments_lexer": "ipython3",
   "version": "3.5.2"
  }
 },
 "nbformat": 4,
 "nbformat_minor": 1
}
